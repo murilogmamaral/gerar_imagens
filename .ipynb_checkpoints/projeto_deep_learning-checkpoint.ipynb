{
  "nbformat": 4,
  "nbformat_minor": 0,
  "metadata": {
    "colab": {
      "name": "Untitled0.ipynb",
      "provenance": [],
      "collapsed_sections": []
    },
    "kernelspec": {
      "name": "python3",
      "display_name": "Python 3"
    },
    "language_info": {
      "name": "python"
    },
    "accelerator": "GPU"
  },
  "cells": [
    {
      "cell_type": "code",
      "metadata": {
        "id": "_gT3ncFcI0oz"
      },
      "source": [
        "import torch\n",
        "import torch.nn as nn\n",
        "import torch.optim as optim\n",
        "import os\n",
        "from torchvision import models\n",
        "import torchvision\n",
        "import torchvision.transforms as transforms\n",
        "from torch.utils.data import Dataset, DataLoader\n",
        "import PIL.Image as Image\n",
        "from skimage import io"
      ],
      "execution_count": 1,
      "outputs": []
    },
    {
      "cell_type": "code",
      "metadata": {
        "id": "bB8NltKAI6of"
      },
      "source": [
        "dir_img = 'drive/MyDrive/monitoria2'"
      ],
      "execution_count": 2,
      "outputs": []
    },
    {
      "cell_type": "code",
      "metadata": {
        "id": "lzLe_1U6J-e1"
      },
      "source": [
        "# Definir alguns hiperparametros e variáveis\n",
        "n_classes = 2 # feliz, triste\n",
        "batch = 20 # balanceado (mesma qte de imgs tristes e felizes)\n",
        "epochs = 10"
      ],
      "execution_count": 3,
      "outputs": []
    },
    {
      "cell_type": "code",
      "metadata": {
        "id": "NMoqDCjqOxMH"
      },
      "source": [
        "class FaceDataset(Dataset):\n",
        "  '''Definindo nosso dataset'''\n",
        "  def __init__(self, directory, transform):\n",
        "    self.directory = directory\n",
        "    self.transform = transform\n",
        "    dir_img_feliz = os.path.join(dir_img, 'feliz')\n",
        "    dir_img_triste = os.path.join(dir_img, 'triste')\n",
        "    # Listar todas imagens na pasta felizes\n",
        "    list_feliz = os.listdir(dir_img_feliz)\n",
        "    list_feliz = [os.path.join(dir_img_feliz, i) for i in list_feliz]\n",
        "    # Listar todas imagens na pasta tristes\n",
        "    list_triste = os.listdir(dir_img_triste)\n",
        "    list_triste = [os.path.join(dir_img_triste, i) for i in list_triste]\n",
        "    # Única lista com todos os caminhos das imagens\n",
        "    self.all_imgs = list_feliz + list_triste\n",
        "    self.classes = [1] * len(list_feliz) + [0] * len(list_triste)\n",
        "\n",
        "  def __len__(self):\n",
        "    return len(self.all_imgs)\n",
        "  \n",
        "  def __getitem__(self, idx):\n",
        "    path = self.all_imgs[idx]\n",
        "    img = Image.open(path).convert('RGB')\n",
        "    return self.transform(img), self.classes[idx]\n",
        "\n"
      ],
      "execution_count": 8,
      "outputs": []
    },
    {
      "cell_type": "code",
      "metadata": {
        "id": "Tt2W3Qg3qvCx"
      },
      "source": [
        "# Defino uma gpu\n",
        "#torch.cuda.is_available()\n",
        "gpu = torch.device('cuda:0')"
      ],
      "execution_count": 32,
      "outputs": []
    },
    {
      "cell_type": "code",
      "metadata": {
        "id": "zWA5udp7QDwP"
      },
      "source": [
        "mean=(.5,.5,.5)\n",
        "std=(.5,.5,.5)\n",
        "transformations = transforms.Compose([transforms.ToTensor(), transforms.Normalize(mean, std)])\n",
        "# Criando objeto que representa nosso dataset\n",
        "dataset = FaceDataset(dir_img, transformations)\n",
        "# Criando objeto dataloader que carregará as imagens do nosso dataset\n",
        "dataloader = DataLoader(dataset, batch_size=batch, shuffle=True)"
      ],
      "execution_count": 154,
      "outputs": []
    },
    {
      "cell_type": "code",
      "metadata": {
        "id": "0FhssqJAhLmx"
      },
      "source": [
        "# Criar nossa rede vgg\n",
        "vgg = models.vgg11(pretrained=True)\n",
        "# Alterando a quantidade de saídas da nossa última camada de classificação\n",
        "in_features = vgg.classifier[-1].in_features\n",
        "vgg.classifier[-1] = nn.Linear(in_features, n_classes)\n",
        "# Colocar VGG na GPU\n",
        "vgg = vgg.to(gpu)"
      ],
      "execution_count": 155,
      "outputs": []
    },
    {
      "cell_type": "code",
      "metadata": {
        "id": "_qAvh6mjlJL8"
      },
      "source": [
        "# Função de custo (erro)\n",
        "loss = nn.CrossEntropyLoss()\n",
        "# Criar otimizador\n",
        "# optimizer = optim.SGD(vgg.parameters(), lr=0.0005, momentum=0.9)\n",
        "optimizer = optim.Adam(vgg.parameters(), lr=0.0002)"
      ],
      "execution_count": 156,
      "outputs": []
    },
    {
      "cell_type": "code",
      "metadata": {
        "colab": {
          "base_uri": "https://localhost:8080/"
        },
        "id": "551wgqcaQNFd",
        "outputId": "e5b6862a-f160-4e74-b6e1-3111e22db059"
      },
      "source": [
        "# Colocar a rede em modo treino\n",
        "vgg.train()\n",
        "epochs = 3\n",
        "# vgg.eval() # Coloco a rede em modo de inferência\n",
        "for epoch in range(epochs):\n",
        "  print(f'epoch: {epoch}/{epochs}')\n",
        "  # Percorre todos os batches da nossa base\n",
        "  for img, c in dataloader:\n",
        "    img = img.to(gpu)\n",
        "    c = c.to(gpu)\n",
        "\n",
        "    # 1. Zerar os gradientes\n",
        "    optimizer.zero_grad()\n",
        "    # 2. Passar imagens pela rede\n",
        "    # torch.Size([20, 3, 224, 224])\n",
        "    out = vgg(img)\n",
        "    # 3. Calcular o erro (loss)\n",
        "    l = loss(out, c)\n",
        "    print(l)\n",
        "    # 4. Aplicar o backpropagation\n",
        "    l.backward()\n",
        "    # 5. Atualizar os pesos\n",
        "    optimizer.step()\n",
        "    "
      ],
      "execution_count": 147,
      "outputs": [
        {
          "output_type": "stream",
          "name": "stdout",
          "text": [
            "epoch: 0/3\n",
            "tensor(0.7342, device='cuda:0', grad_fn=<NllLossBackward>)\n",
            "tensor(0.3353, device='cuda:0', grad_fn=<NllLossBackward>)\n",
            "tensor(0.0309, device='cuda:0', grad_fn=<NllLossBackward>)\n",
            "tensor(0.0023, device='cuda:0', grad_fn=<NllLossBackward>)\n",
            "tensor(0.0003, device='cuda:0', grad_fn=<NllLossBackward>)\n",
            "tensor(1.4782e-06, device='cuda:0', grad_fn=<NllLossBackward>)\n",
            "tensor(0., device='cuda:0', grad_fn=<NllLossBackward>)\n",
            "tensor(0., device='cuda:0', grad_fn=<NllLossBackward>)\n",
            "tensor(0., device='cuda:0', grad_fn=<NllLossBackward>)\n",
            "tensor(0., device='cuda:0', grad_fn=<NllLossBackward>)\n",
            "epoch: 1/3\n",
            "tensor(0., device='cuda:0', grad_fn=<NllLossBackward>)\n",
            "tensor(0., device='cuda:0', grad_fn=<NllLossBackward>)\n",
            "tensor(0., device='cuda:0', grad_fn=<NllLossBackward>)\n",
            "tensor(0., device='cuda:0', grad_fn=<NllLossBackward>)\n",
            "tensor(0., device='cuda:0', grad_fn=<NllLossBackward>)\n",
            "tensor(0., device='cuda:0', grad_fn=<NllLossBackward>)\n",
            "tensor(0., device='cuda:0', grad_fn=<NllLossBackward>)\n",
            "tensor(0., device='cuda:0', grad_fn=<NllLossBackward>)\n",
            "tensor(0., device='cuda:0', grad_fn=<NllLossBackward>)\n",
            "tensor(0., device='cuda:0', grad_fn=<NllLossBackward>)\n",
            "epoch: 2/3\n",
            "tensor(0., device='cuda:0', grad_fn=<NllLossBackward>)\n",
            "tensor(0., device='cuda:0', grad_fn=<NllLossBackward>)\n",
            "tensor(0., device='cuda:0', grad_fn=<NllLossBackward>)\n",
            "tensor(0., device='cuda:0', grad_fn=<NllLossBackward>)\n",
            "tensor(0., device='cuda:0', grad_fn=<NllLossBackward>)\n",
            "tensor(0., device='cuda:0', grad_fn=<NllLossBackward>)\n",
            "tensor(0., device='cuda:0', grad_fn=<NllLossBackward>)\n",
            "tensor(0., device='cuda:0', grad_fn=<NllLossBackward>)\n",
            "tensor(0., device='cuda:0', grad_fn=<NllLossBackward>)\n",
            "tensor(0., device='cuda:0', grad_fn=<NllLossBackward>)\n"
          ]
        }
      ]
    },
    {
      "cell_type": "code",
      "metadata": {
        "colab": {
          "base_uri": "https://localhost:8080/",
          "height": 258
        },
        "id": "FLQcBz_dUvku",
        "outputId": "6b8a17ac-8435-45a4-a2f7-5878b0783f8d"
      },
      "source": [
        "path = 'drive/MyDrive/monitoria2/teste.jpg'\n",
        "img_teste = Image.open(path).convert('RGB')\n",
        "print(type(img_teste))\n",
        "img_teste"
      ],
      "execution_count": 157,
      "outputs": [
        {
          "output_type": "stream",
          "name": "stdout",
          "text": [
            "<class 'PIL.Image.Image'>\n"
          ]
        },
        {
          "output_type": "execute_result",
          "data": {
            "image/png": "[encoded data removed]",
            "text/plain": [
              "<PIL.Image.Image image mode=RGB size=224x224 at 0x7F2D87458D50>"
            ]
          },
          "metadata": {},
          "execution_count": 157
        }
      ]
    },
    {
      "cell_type": "code",
      "metadata": {
        "colab": {
          "base_uri": "https://localhost:8080/"
        },
        "id": "nDbaxgwTsA2_",
        "outputId": "dccab3c1-1352-4798-8264-d4851635ebbd"
      },
      "source": [
        "# colocar rede em modo de inferência\n",
        "vgg.eval() \n",
        "img = transformations(img_teste)\n",
        "img = img.unsqueeze(0).to(gpu)\n",
        "out = vgg(img)\n",
        "softmax = nn.Softmax()\n",
        "out = softmax(out)\n",
        "# out = out.item()\n",
        "out\n",
        "# variavel = 0.1231123123\n",
        "print(f'Probabilidade de ser triste {100*out[0][0].item():.2f}%')\n",
        "print(f'Probabilidade de ser feliz {100*out[0][1].item():.2f}%')\n",
        "# 0: triste\n",
        "# 1: feliz"
      ],
      "execution_count": 158,
      "outputs": [
        {
          "output_type": "stream",
          "name": "stdout",
          "text": [
            "Probabilidade de ser triste 54.55%\n",
            "Probabilidade de ser feliz 45.45%\n"
          ]
        },
        {
          "output_type": "stream",
          "name": "stderr",
          "text": [
            "/usr/local/lib/python3.7/dist-packages/ipykernel_launcher.py:7: UserWarning: Implicit dimension choice for softmax has been deprecated. Change the call to include dim=X as an argument.\n",
            "  import sys\n"
          ]
        }
      ]
    },
    {
      "cell_type": "code",
      "metadata": {
        "id": "9Bonp3UKZjTw"
      },
      "source": [
        ""
      ],
      "execution_count": null,
      "outputs": []
    }
  ]
}