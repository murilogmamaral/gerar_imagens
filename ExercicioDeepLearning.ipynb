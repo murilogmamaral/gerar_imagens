{
  "nbformat": 4,
  "nbformat_minor": 0,
  "metadata": {
    "colab": {
      "name": "ExercicioDeepLearning.ipynb",
      "provenance": [],
      "collapsed_sections": []
    },
    "kernelspec": {
      "name": "python3",
      "display_name": "Python 3"
    },
    "language_info": {
      "name": "python"
    },
    "accelerator": "GPU"
  },
  "cells": [
    {
      "cell_type": "markdown",
      "metadata": {
        "id": "u9au5DYbAH1p"
      },
      "source": [
        "# Academia QADS\n",
        "___\n",
        "### Exercício de Deep Learning"
      ]
    },
    {
      "cell_type": "code",
      "metadata": {
        "id": "u4ALrxrD4PiV"
      },
      "source": [
        "# Alterar o tipo de ambiente de execução para GPU."
      ],
      "execution_count": 1,
      "outputs": []
    },
    {
      "cell_type": "code",
      "metadata": {
        "id": "0HeyludwH7xa"
      },
      "source": [
        "# Importando bibliotecas\n",
        "import torch\n",
        "import torch.nn as nn\n",
        "import torch.optim as optim\n",
        "import os\n",
        "from torchvision import models\n",
        "import torchvision\n",
        "import torchvision.transforms as transforms\n",
        "from torch.utils.data import Dataset, DataLoader\n",
        "import PIL.Image as Image\n",
        "from skimage import io"
      ],
      "execution_count": 2,
      "outputs": []
    },
    {
      "cell_type": "code",
      "metadata": {
        "id": "0Dubp5fvYtz8"
      },
      "source": [
        "# Montando a ligação com o Google Drive\n",
        "from google.colab import drive\n",
        "drive.mount('/content/drive')"
      ],
      "execution_count": 3,
      "outputs": []
    },
    {
      "cell_type": "code",
      "metadata": {
        "id": "-DnK2i1b4bts"
      },
      "source": [
        "# Antes de seguir, colocar as pastas 'feliz' e 'triste'\n",
        "# dentro de uma pasta 'imagens' no seu Google Drive"
      ],
      "execution_count": 4,
      "outputs": []
    },
    {
      "cell_type": "code",
      "metadata": {
        "id": "6K-8MOGOJPVk"
      },
      "source": [
        "# Definindo o diretório das imagens de treino \n",
        "dir_img = '/content/drive/MyDrive/imagens/'"
      ],
      "execution_count": 5,
      "outputs": []
    },
    {
      "cell_type": "code",
      "metadata": {
        "id": "JlIc4UqeNh3J"
      },
      "source": [
        "# Definindo alguns hiperparâmetros e variáveis\n",
        "n_classes = 2 # feliz, triste\n",
        "batch = 20 # está balanceado (mesma quantidade de imagens tristes e felizes)\n",
        "epochs = 10"
      ],
      "execution_count": 6,
      "outputs": []
    },
    {
      "cell_type": "code",
      "metadata": {
        "id": "KzCEh5bSOU_1"
      },
      "source": [
        "class FaceDataset(Dataset):\n",
        "  '''Definindo nosso dataset'''\n",
        "  def __init__(self, directory, transform):\n",
        "    self.directory = directory\n",
        "    self.transform = transform\n",
        "    dir_img_feliz = os.path.join(dir_img, 'feliz')\n",
        "    dir_img_triste = os.path.join(dir_img, 'triste')\n",
        "    # Listar todas imagens na pasta felizes\n",
        "    list_feliz = os.listdir(dir_img_feliz)\n",
        "    list_feliz = [os.path.join(dir_img_feliz, i) for i in list_feliz]\n",
        "    # Listar todas imagens na pasta tristes\n",
        "    list_triste = os.listdir(dir_img_triste)\n",
        "    list_triste = [os.path.join(dir_img_triste, i) for i in list_triste]\n",
        "    # Única lista com todos os caminhos das imagens\n",
        "    self.all_imgs = list_feliz + list_triste\n",
        "    self.classes = [1] * len(list_feliz) + [0] * len(list_triste)\n",
        "\n",
        "  def __len__(self):\n",
        "    return len(self.all_imgs)\n",
        "  \n",
        "  def __getitem__(self, idx):\n",
        "    path = self.all_imgs[idx]\n",
        "    img = Image.open(path).convert('RGB')\n",
        "    return self.transform(img), self.classes[idx]"
      ],
      "execution_count": 7,
      "outputs": []
    },
    {
      "cell_type": "code",
      "metadata": {
        "id": "qoii4cDUrC7s"
      },
      "source": [
        "# Definindo uma gpu\n",
        "gpu = torch.device('cuda:0')"
      ],
      "execution_count": 8,
      "outputs": []
    },
    {
      "cell_type": "code",
      "metadata": {
        "id": "PDhyEWYupOaX"
      },
      "source": [
        "mean=(.5,.5,.5)\n",
        "std=(.5,.5,.5)\n",
        "transformations = transforms.Compose([transforms.ToTensor(), transforms.Normalize(mean, std)])\n",
        "# Criando objeto que representa nosso dataset\n",
        "dataset = FaceDataset(dir_img, transformations)\n",
        "# Criando objeto dataloader que carregará as imagens do nosso dataset\n",
        "dataloader = DataLoader(dataset, batch_size=batch, shuffle=True)"
      ],
      "execution_count": 9,
      "outputs": []
    },
    {
      "cell_type": "code",
      "metadata": {
        "id": "MMygONs8hSbu"
      },
      "source": [
        "# Criando nossa rede VGG\n",
        "vgg = models.vgg11(pretrained=True)\n",
        "# Alterando a quantidade de saídas da nossa última camada de classificação\n",
        "in_features = vgg.classifier[-1].in_features\n",
        "vgg.classifier[-1] = nn.Linear(in_features,n_classes)\n",
        "# Colocando VGG na GPU\n",
        "vgg = vgg.cuda()"
      ],
      "execution_count": 10,
      "outputs": []
    },
    {
      "cell_type": "code",
      "metadata": {
        "id": "qVw8CO5JiKn_"
      },
      "source": [
        "# Função de custo (erro)\n",
        "loss = nn.CrossEntropyLoss()\n",
        "\n",
        "# Criando otimizador\n",
        "optimizer = optim.Adam(vgg.parameters(), lr=0.0002)\n",
        "# optimizer = optim.SGD(vgg.parameters(), lr=0.0005, momentum=0.9)"
      ],
      "execution_count": 11,
      "outputs": []
    },
    {
      "cell_type": "code",
      "metadata": {
        "colab": {
          "base_uri": "https://localhost:8080/"
        },
        "id": "HS-fW9hDaaGy",
        "outputId": "71ba898b-6135-471d-f0cc-7608099cd389"
      },
      "source": [
        "# Colocando a rede em modo de treino\n",
        "vgg.train()\n",
        "\n",
        "for epoch in range(epochs):\n",
        "  print(f'epoch: {epoch+1}/{epochs}')\n",
        "  # Percorrendo todos os batches da base\n",
        "  for img, c in dataloader:\n",
        "    img = img.to(gpu)\n",
        "    c = c.to(gpu)\n",
        "    # 1. Zerando os gradientes\n",
        "    optimizer.zero_grad()\n",
        "    # 2. Passando imagens pela rede\n",
        "    out = vgg(img)\n",
        "    # 3. Calculando o erro (loss)\n",
        "    l = loss(out, c)\n",
        "    print(l)\n",
        "    # 4. Aplicando o backpropagation\n",
        "    l.backward()\n",
        "    # 5. Atualizando os pesos\n",
        "    optimizer.step()"
      ],
      "execution_count": 12,
      "outputs": [
        {
          "output_type": "stream",
          "name": "stdout",
          "text": [
            "epoch: 1/10\n"
          ]
        },
        {
          "output_type": "stream",
          "name": "stderr",
          "text": [
            "/usr/local/lib/python3.7/dist-packages/torch/nn/functional.py:718: UserWarning: Named tensors and all their associated APIs are an experimental feature and subject to change. Please do not use them for anything important until they are released as stable. (Triggered internally at  /pytorch/c10/core/TensorImpl.h:1156.)\n",
            "  return torch.max_pool2d(input, kernel_size, stride, padding, dilation, ceil_mode)\n"
          ]
        },
        {
          "output_type": "stream",
          "name": "stdout",
          "text": [
            "tensor(0.7664, device='cuda:0', grad_fn=<NllLossBackward>)\n",
            "tensor(0.3283, device='cuda:0', grad_fn=<NllLossBackward>)\n",
            "tensor(0.1340, device='cuda:0', grad_fn=<NllLossBackward>)\n",
            "tensor(0.0116, device='cuda:0', grad_fn=<NllLossBackward>)\n",
            "tensor(0.0026, device='cuda:0', grad_fn=<NllLossBackward>)\n",
            "tensor(6.1509e-06, device='cuda:0', grad_fn=<NllLossBackward>)\n",
            "tensor(0.0001, device='cuda:0', grad_fn=<NllLossBackward>)\n",
            "tensor(4.5297e-06, device='cuda:0', grad_fn=<NllLossBackward>)\n",
            "tensor(4.6430e-06, device='cuda:0', grad_fn=<NllLossBackward>)\n",
            "tensor(2.6226e-07, device='cuda:0', grad_fn=<NllLossBackward>)\n",
            "epoch: 2/10\n",
            "tensor(0., device='cuda:0', grad_fn=<NllLossBackward>)\n",
            "tensor(0., device='cuda:0', grad_fn=<NllLossBackward>)\n",
            "tensor(0., device='cuda:0', grad_fn=<NllLossBackward>)\n",
            "tensor(0., device='cuda:0', grad_fn=<NllLossBackward>)\n",
            "tensor(0., device='cuda:0', grad_fn=<NllLossBackward>)\n",
            "tensor(0., device='cuda:0', grad_fn=<NllLossBackward>)\n",
            "tensor(0., device='cuda:0', grad_fn=<NllLossBackward>)\n",
            "tensor(0., device='cuda:0', grad_fn=<NllLossBackward>)\n",
            "tensor(0., device='cuda:0', grad_fn=<NllLossBackward>)\n",
            "tensor(0., device='cuda:0', grad_fn=<NllLossBackward>)\n",
            "epoch: 3/10\n",
            "tensor(0., device='cuda:0', grad_fn=<NllLossBackward>)\n",
            "tensor(0., device='cuda:0', grad_fn=<NllLossBackward>)\n",
            "tensor(0., device='cuda:0', grad_fn=<NllLossBackward>)\n",
            "tensor(0., device='cuda:0', grad_fn=<NllLossBackward>)\n",
            "tensor(0., device='cuda:0', grad_fn=<NllLossBackward>)\n",
            "tensor(0., device='cuda:0', grad_fn=<NllLossBackward>)\n",
            "tensor(0., device='cuda:0', grad_fn=<NllLossBackward>)\n",
            "tensor(0., device='cuda:0', grad_fn=<NllLossBackward>)\n",
            "tensor(0., device='cuda:0', grad_fn=<NllLossBackward>)\n",
            "tensor(0., device='cuda:0', grad_fn=<NllLossBackward>)\n",
            "epoch: 4/10\n",
            "tensor(0., device='cuda:0', grad_fn=<NllLossBackward>)\n",
            "tensor(0., device='cuda:0', grad_fn=<NllLossBackward>)\n",
            "tensor(0., device='cuda:0', grad_fn=<NllLossBackward>)\n",
            "tensor(0., device='cuda:0', grad_fn=<NllLossBackward>)\n",
            "tensor(0., device='cuda:0', grad_fn=<NllLossBackward>)\n",
            "tensor(0., device='cuda:0', grad_fn=<NllLossBackward>)\n",
            "tensor(0., device='cuda:0', grad_fn=<NllLossBackward>)\n",
            "tensor(0., device='cuda:0', grad_fn=<NllLossBackward>)\n",
            "tensor(0., device='cuda:0', grad_fn=<NllLossBackward>)\n",
            "tensor(0., device='cuda:0', grad_fn=<NllLossBackward>)\n",
            "epoch: 5/10\n",
            "tensor(0., device='cuda:0', grad_fn=<NllLossBackward>)\n",
            "tensor(0., device='cuda:0', grad_fn=<NllLossBackward>)\n",
            "tensor(0., device='cuda:0', grad_fn=<NllLossBackward>)\n",
            "tensor(0., device='cuda:0', grad_fn=<NllLossBackward>)\n",
            "tensor(0., device='cuda:0', grad_fn=<NllLossBackward>)\n",
            "tensor(0., device='cuda:0', grad_fn=<NllLossBackward>)\n",
            "tensor(0., device='cuda:0', grad_fn=<NllLossBackward>)\n",
            "tensor(0., device='cuda:0', grad_fn=<NllLossBackward>)\n",
            "tensor(0., device='cuda:0', grad_fn=<NllLossBackward>)\n",
            "tensor(0., device='cuda:0', grad_fn=<NllLossBackward>)\n",
            "epoch: 6/10\n",
            "tensor(0., device='cuda:0', grad_fn=<NllLossBackward>)\n",
            "tensor(0., device='cuda:0', grad_fn=<NllLossBackward>)\n",
            "tensor(0., device='cuda:0', grad_fn=<NllLossBackward>)\n",
            "tensor(0., device='cuda:0', grad_fn=<NllLossBackward>)\n",
            "tensor(0., device='cuda:0', grad_fn=<NllLossBackward>)\n",
            "tensor(0., device='cuda:0', grad_fn=<NllLossBackward>)\n",
            "tensor(0., device='cuda:0', grad_fn=<NllLossBackward>)\n",
            "tensor(0., device='cuda:0', grad_fn=<NllLossBackward>)\n",
            "tensor(0., device='cuda:0', grad_fn=<NllLossBackward>)\n",
            "tensor(0., device='cuda:0', grad_fn=<NllLossBackward>)\n",
            "epoch: 7/10\n",
            "tensor(0., device='cuda:0', grad_fn=<NllLossBackward>)\n",
            "tensor(0., device='cuda:0', grad_fn=<NllLossBackward>)\n",
            "tensor(0., device='cuda:0', grad_fn=<NllLossBackward>)\n",
            "tensor(0., device='cuda:0', grad_fn=<NllLossBackward>)\n",
            "tensor(0., device='cuda:0', grad_fn=<NllLossBackward>)\n",
            "tensor(0., device='cuda:0', grad_fn=<NllLossBackward>)\n",
            "tensor(0., device='cuda:0', grad_fn=<NllLossBackward>)\n",
            "tensor(0., device='cuda:0', grad_fn=<NllLossBackward>)\n",
            "tensor(0., device='cuda:0', grad_fn=<NllLossBackward>)\n",
            "tensor(0., device='cuda:0', grad_fn=<NllLossBackward>)\n",
            "epoch: 8/10\n",
            "tensor(0., device='cuda:0', grad_fn=<NllLossBackward>)\n",
            "tensor(0., device='cuda:0', grad_fn=<NllLossBackward>)\n",
            "tensor(0., device='cuda:0', grad_fn=<NllLossBackward>)\n",
            "tensor(0., device='cuda:0', grad_fn=<NllLossBackward>)\n",
            "tensor(0., device='cuda:0', grad_fn=<NllLossBackward>)\n",
            "tensor(0., device='cuda:0', grad_fn=<NllLossBackward>)\n",
            "tensor(0., device='cuda:0', grad_fn=<NllLossBackward>)\n",
            "tensor(0., device='cuda:0', grad_fn=<NllLossBackward>)\n",
            "tensor(0., device='cuda:0', grad_fn=<NllLossBackward>)\n",
            "tensor(0., device='cuda:0', grad_fn=<NllLossBackward>)\n",
            "epoch: 9/10\n",
            "tensor(0., device='cuda:0', grad_fn=<NllLossBackward>)\n",
            "tensor(0., device='cuda:0', grad_fn=<NllLossBackward>)\n",
            "tensor(0., device='cuda:0', grad_fn=<NllLossBackward>)\n",
            "tensor(0., device='cuda:0', grad_fn=<NllLossBackward>)\n",
            "tensor(0., device='cuda:0', grad_fn=<NllLossBackward>)\n",
            "tensor(0., device='cuda:0', grad_fn=<NllLossBackward>)\n",
            "tensor(0., device='cuda:0', grad_fn=<NllLossBackward>)\n",
            "tensor(0., device='cuda:0', grad_fn=<NllLossBackward>)\n",
            "tensor(0., device='cuda:0', grad_fn=<NllLossBackward>)\n",
            "tensor(0., device='cuda:0', grad_fn=<NllLossBackward>)\n",
            "epoch: 10/10\n",
            "tensor(0., device='cuda:0', grad_fn=<NllLossBackward>)\n",
            "tensor(0., device='cuda:0', grad_fn=<NllLossBackward>)\n",
            "tensor(0., device='cuda:0', grad_fn=<NllLossBackward>)\n",
            "tensor(0., device='cuda:0', grad_fn=<NllLossBackward>)\n",
            "tensor(0., device='cuda:0', grad_fn=<NllLossBackward>)\n",
            "tensor(0., device='cuda:0', grad_fn=<NllLossBackward>)\n",
            "tensor(0., device='cuda:0', grad_fn=<NllLossBackward>)\n",
            "tensor(0., device='cuda:0', grad_fn=<NllLossBackward>)\n",
            "tensor(0., device='cuda:0', grad_fn=<NllLossBackward>)\n",
            "tensor(0., device='cuda:0', grad_fn=<NllLossBackward>)\n"
          ]
        }
      ]
    },
    {
      "cell_type": "code",
      "metadata": {
        "colab": {
          "base_uri": "https://localhost:8080/",
          "height": 241
        },
        "id": "scEIwSWMsN9r",
        "outputId": "be6f0654-d95b-422a-86f5-ce8be58a9808"
      },
      "source": [
        "# Agora, desenhe uma imagem autoral 'teste.png' com as dimensões 224 x 224.\n",
        "# Depois, suba direto na pasta 'imagens' do seu Google Drive.\n",
        "path = 'drive/MyDrive/imagens/teste.png'\n",
        "img_teste = Image.open(path).convert('RGB')\n",
        "img_teste"
      ],
      "execution_count": 13,
      "outputs": [
        {
          "output_type": "execute_result",
          "data": {
            "image/png": "[encoded data removed]",
            "text/plain": [
              "<PIL.Image.Image image mode=RGB size=224x224 at 0x7FAA7B5F1C10>"
            ]
          },
          "metadata": {},
          "execution_count": 13
        }
      ]
    },
    {
      "cell_type": "code",
      "metadata": {
        "colab": {
          "base_uri": "https://localhost:8080/"
        },
        "id": "Oy-i7A9AzlIQ",
        "outputId": "d10ae373-64e6-429e-f988-e77efa8f99fb"
      },
      "source": [
        "# Colocando a rede em modo de inferência\n",
        "vgg.eval() \n",
        "img = transformations(img_teste)\n",
        "img = img.unsqueeze(0).to(gpu)\n",
        "out = vgg(img)\n",
        "softmax = nn.Softmax()\n",
        "out = softmax(out)\n",
        "print(f'\\nProbabilidade de ser triste:  {out[0][0].item():.2f}')\n",
        "print(f'\\nProbabilidade de ser feliz:   {out[0][1].item():.2f}\\n')"
      ],
      "execution_count": 14,
      "outputs": [
        {
          "output_type": "stream",
          "name": "stdout",
          "text": [
            "\n",
            "Probabilidade de ser triste:  0.00\n",
            "\n",
            "Probabilidade de ser feliz:   1.00\n",
            "\n"
          ]
        },
        {
          "output_type": "stream",
          "name": "stderr",
          "text": [
            "/usr/local/lib/python3.7/dist-packages/ipykernel_launcher.py:7: UserWarning: Implicit dimension choice for softmax has been deprecated. Change the call to include dim=X as an argument.\n",
            "  import sys\n"
          ]
        }
      ]
    }
  ]
}