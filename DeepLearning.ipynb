{
  "nbformat": 4,
  "nbformat_minor": 0,
  "metadata": {
    "colab": {
      "name": "DeepLearning.ipynb",
      "provenance": [],
      "collapsed_sections": []
    },
    "kernelspec": {
      "name": "python3",
      "display_name": "Python 3"
    },
    "language_info": {
      "name": "python"
    },
    "accelerator": "GPU"
  },
  "cells": [
    {
      "cell_type": "markdown",
      "metadata": {
        "id": "u9au5DYbAH1p"
      },
      "source": [
        "## Exercício básico de Deep Learning\n",
        "___\n",
        "### Classificando carinhas tristes e felizes\n",
        "\n",
        "![triste.png](data:image/png;base64,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) ![feliz.png](data:image/png;base64,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)"
      ]
    },
    {
      "cell_type": "code",
      "metadata": {
        "id": "0HeyludwH7xa"
      },
      "source": [
        "# Alterar o tipo de ambiente de execução para GPU\n",
        "import torch\n",
        "import torch.nn as nn\n",
        "import torch.optim as optim\n",
        "import os\n",
        "from torchvision import models\n",
        "import torchvision\n",
        "import torchvision.transforms as transforms\n",
        "from torch.utils.data import Dataset, DataLoader\n",
        "import PIL.Image as Image\n",
        "from skimage import io"
      ],
      "execution_count": 1,
      "outputs": []
    },
    {
      "cell_type": "code",
      "metadata": {
        "colab": {
          "base_uri": "https://localhost:8080/"
        },
        "id": "0Dubp5fvYtz8",
        "outputId": "9a5d5a18-cbe3-47a9-f551-a28cb4b5c87b"
      },
      "source": [
        "from google.colab import drive\n",
        "drive.mount('/content/drive')"
      ],
      "execution_count": 2,
      "outputs": [
        {
          "output_type": "stream",
          "name": "stdout",
          "text": [
            "Drive already mounted at /content/drive; to attempt to forcibly remount, call drive.mount(\"/content/drive\", force_remount=True).\n"
          ]
        }
      ]
    },
    {
      "cell_type": "code",
      "metadata": {
        "id": "6K-8MOGOJPVk"
      },
      "source": [
        "# Colocar as pastas 'feliz' e 'triste' com as imagens de treino\n",
        "# dentro de uma pasta 'imagens' no seu Google Drive\n",
        "\n",
        "# Definindo o diretório das imagens de treino \n",
        "dir_img = '/content/drive/MyDrive/imagens/'"
      ],
      "execution_count": 3,
      "outputs": []
    },
    {
      "cell_type": "code",
      "metadata": {
        "id": "JlIc4UqeNh3J"
      },
      "source": [
        "# Definindo alguns hiperparâmetros e variáveis\n",
        "n_classes = 2 # feliz, triste\n",
        "batch = 20 # está balanceado (mesma quantidade de imagens tristes e felizes)\n",
        "epochs = 10"
      ],
      "execution_count": 4,
      "outputs": []
    },
    {
      "cell_type": "code",
      "metadata": {
        "id": "KzCEh5bSOU_1"
      },
      "source": [
        "class FaceDataset(Dataset):\n",
        "  '''Definindo nosso dataset'''\n",
        "  def __init__(self, directory, transform):\n",
        "    self.directory = directory\n",
        "    self.transform = transform\n",
        "    dir_img_feliz = os.path.join(dir_img, 'feliz')\n",
        "    dir_img_triste = os.path.join(dir_img, 'triste')\n",
        "    # Listar todas imagens na pasta felizes\n",
        "    list_feliz = os.listdir(dir_img_feliz)\n",
        "    list_feliz = [os.path.join(dir_img_feliz, i) for i in list_feliz]\n",
        "    # Listar todas imagens na pasta tristes\n",
        "    list_triste = os.listdir(dir_img_triste)\n",
        "    list_triste = [os.path.join(dir_img_triste, i) for i in list_triste]\n",
        "    # Única lista com todos os caminhos das imagens\n",
        "    self.all_imgs = list_feliz + list_triste\n",
        "    self.classes = [1] * len(list_feliz) + [0] * len(list_triste)\n",
        "\n",
        "  def __len__(self):\n",
        "    return len(self.all_imgs)\n",
        "  \n",
        "  def __getitem__(self, idx):\n",
        "    path = self.all_imgs[idx]\n",
        "    img = Image.open(path).convert('RGB')\n",
        "    return self.transform(img), self.classes[idx]"
      ],
      "execution_count": 5,
      "outputs": []
    },
    {
      "cell_type": "code",
      "metadata": {
        "id": "qoii4cDUrC7s"
      },
      "source": [
        "# Definindo uma gpu\n",
        "gpu = torch.device('cuda:0')"
      ],
      "execution_count": 6,
      "outputs": []
    },
    {
      "cell_type": "code",
      "metadata": {
        "id": "PDhyEWYupOaX"
      },
      "source": [
        "mean=(.5,.5,.5)\n",
        "std=(.5,.5,.5)\n",
        "transformations = transforms.Compose([transforms.ToTensor(), transforms.Normalize(mean, std)])\n",
        "# Criando objeto que representa nosso dataset\n",
        "dataset = FaceDataset(dir_img, transformations)\n",
        "# Criando objeto dataloader que carregará as imagens do nosso dataset\n",
        "dataloader = DataLoader(dataset, batch_size=batch, shuffle=True)"
      ],
      "execution_count": 7,
      "outputs": []
    },
    {
      "cell_type": "code",
      "metadata": {
        "id": "MMygONs8hSbu"
      },
      "source": [
        "# Criando nossa rede VGG\n",
        "vgg = models.vgg11(pretrained=True)\n",
        "# Alterando a quantidade de saídas da nossa última camada de classificação\n",
        "in_features = vgg.classifier[-1].in_features\n",
        "vgg.classifier[-1] = nn.Linear(in_features,n_classes)\n",
        "# Colocando VGG na GPU\n",
        "vgg = vgg.cuda()"
      ],
      "execution_count": 8,
      "outputs": []
    },
    {
      "cell_type": "code",
      "metadata": {
        "id": "qVw8CO5JiKn_"
      },
      "source": [
        "# Função de custo (erro)\n",
        "loss = nn.CrossEntropyLoss()\n",
        "\n",
        "# Criando otimizador\n",
        "optimizer = optim.Adam(vgg.parameters(), lr=0.0002)\n",
        "# optimizer = optim.SGD(vgg.parameters(), lr=0.0005, momentum=0.9)"
      ],
      "execution_count": 9,
      "outputs": []
    },
    {
      "cell_type": "markdown",
      "metadata": {
        "id": "hdebz0wn__R_"
      },
      "source": [
        "Obs.: A escolha do otimizador faz muita diferença Gradiente Descendente, Adam... Testar as opções."
      ]
    },
    {
      "cell_type": "code",
      "metadata": {
        "id": "1RXBpzrEmAKQ"
      },
      "source": [
        "# Criando otimizador\n",
        "optimizer = optim.Adam(vgg.parameters(),lr=0.0005)\n",
        "\n",
        "# A escolha do otimizador faz muita diferença\n",
        "# Gradiente descendente, Adam... vai testando"
      ],
      "execution_count": 10,
      "outputs": []
    },
    {
      "cell_type": "code",
      "metadata": {
        "colab": {
          "base_uri": "https://localhost:8080/"
        },
        "id": "HS-fW9hDaaGy",
        "outputId": "4d466600-25e5-469c-e8b0-ff97522ac85a"
      },
      "source": [
        "# Colocando a rede em modo de treino\n",
        "vgg.train()\n",
        "# vgg.eval() # Ao ativar, coloca a rede em modo de inferência\n",
        "epochs = 3 # Ao ativar, define um número de épocas. O estabelecido no início foi 10.\n",
        "\n",
        "for epoch in range(epochs):\n",
        "  print(f'epoch: {epoch+1}/{epochs}')\n",
        "  # Percorrendo todos os batches da nossa base\n",
        "  for img, c in dataloader:\n",
        "    img = img.to(gpu)\n",
        "    c = c.to(gpu)\n",
        "\n",
        "    # 1. Zerando os gradientes\n",
        "    optimizer.zero_grad()\n",
        "    # 2. Passando imagens pela rede\n",
        "    out = vgg(img)\n",
        "    # 3. Calculando o erro (loss)\n",
        "    l = loss(out, c)\n",
        "    print(l)\n",
        "    # 4. Aplicando o backpropagation\n",
        "    l.backward()\n",
        "    # 5. Atualizando os pesos\n",
        "    optimizer.step()"
      ],
      "execution_count": 11,
      "outputs": [
        {
          "output_type": "stream",
          "name": "stdout",
          "text": [
            "epoch: 1/3\n"
          ]
        },
        {
          "output_type": "stream",
          "name": "stderr",
          "text": [
            "/usr/local/lib/python3.7/dist-packages/torch/nn/functional.py:718: UserWarning: Named tensors and all their associated APIs are an experimental feature and subject to change. Please do not use them for anything important until they are released as stable. (Triggered internally at  /pytorch/c10/core/TensorImpl.h:1156.)\n",
            "  return torch.max_pool2d(input, kernel_size, stride, padding, dilation, ceil_mode)\n"
          ]
        },
        {
          "output_type": "stream",
          "name": "stdout",
          "text": [
            "tensor(0.6502, device='cuda:0', grad_fn=<NllLossBackward>)\n",
            "tensor(0.5520, device='cuda:0', grad_fn=<NllLossBackward>)\n",
            "tensor(1.6172, device='cuda:0', grad_fn=<NllLossBackward>)\n",
            "tensor(0.0668, device='cuda:0', grad_fn=<NllLossBackward>)\n",
            "tensor(0.0686, device='cuda:0', grad_fn=<NllLossBackward>)\n",
            "tensor(0.0130, device='cuda:0', grad_fn=<NllLossBackward>)\n",
            "tensor(0.0004, device='cuda:0', grad_fn=<NllLossBackward>)\n",
            "tensor(0.0024, device='cuda:0', grad_fn=<NllLossBackward>)\n",
            "tensor(0., device='cuda:0', grad_fn=<NllLossBackward>)\n",
            "tensor(0., device='cuda:0', grad_fn=<NllLossBackward>)\n",
            "tensor(0., device='cuda:0', grad_fn=<NllLossBackward>)\n",
            "tensor(0., device='cuda:0', grad_fn=<NllLossBackward>)\n",
            "tensor(0., device='cuda:0', grad_fn=<NllLossBackward>)\n",
            "tensor(0., device='cuda:0', grad_fn=<NllLossBackward>)\n",
            "tensor(0., device='cuda:0', grad_fn=<NllLossBackward>)\n",
            "tensor(0., device='cuda:0', grad_fn=<NllLossBackward>)\n",
            "tensor(0., device='cuda:0', grad_fn=<NllLossBackward>)\n",
            "tensor(0., device='cuda:0', grad_fn=<NllLossBackward>)\n",
            "tensor(0., device='cuda:0', grad_fn=<NllLossBackward>)\n",
            "tensor(0., device='cuda:0', grad_fn=<NllLossBackward>)\n",
            "tensor(0., device='cuda:0', grad_fn=<NllLossBackward>)\n",
            "tensor(0., device='cuda:0', grad_fn=<NllLossBackward>)\n",
            "tensor(0., device='cuda:0', grad_fn=<NllLossBackward>)\n",
            "tensor(0., device='cuda:0', grad_fn=<NllLossBackward>)\n",
            "tensor(0., device='cuda:0', grad_fn=<NllLossBackward>)\n",
            "tensor(0., device='cuda:0', grad_fn=<NllLossBackward>)\n",
            "tensor(0., device='cuda:0', grad_fn=<NllLossBackward>)\n",
            "tensor(0., device='cuda:0', grad_fn=<NllLossBackward>)\n",
            "tensor(0., device='cuda:0', grad_fn=<NllLossBackward>)\n",
            "tensor(0., device='cuda:0', grad_fn=<NllLossBackward>)\n",
            "tensor(0., device='cuda:0', grad_fn=<NllLossBackward>)\n",
            "tensor(0., device='cuda:0', grad_fn=<NllLossBackward>)\n",
            "tensor(0., device='cuda:0', grad_fn=<NllLossBackward>)\n",
            "tensor(0., device='cuda:0', grad_fn=<NllLossBackward>)\n",
            "tensor(0., device='cuda:0', grad_fn=<NllLossBackward>)\n",
            "tensor(0., device='cuda:0', grad_fn=<NllLossBackward>)\n",
            "tensor(0., device='cuda:0', grad_fn=<NllLossBackward>)\n",
            "tensor(0., device='cuda:0', grad_fn=<NllLossBackward>)\n",
            "tensor(0., device='cuda:0', grad_fn=<NllLossBackward>)\n",
            "tensor(0., device='cuda:0', grad_fn=<NllLossBackward>)\n",
            "tensor(0., device='cuda:0', grad_fn=<NllLossBackward>)\n",
            "tensor(0., device='cuda:0', grad_fn=<NllLossBackward>)\n",
            "tensor(0., device='cuda:0', grad_fn=<NllLossBackward>)\n",
            "tensor(0., device='cuda:0', grad_fn=<NllLossBackward>)\n",
            "tensor(0., device='cuda:0', grad_fn=<NllLossBackward>)\n",
            "tensor(0., device='cuda:0', grad_fn=<NllLossBackward>)\n",
            "tensor(0., device='cuda:0', grad_fn=<NllLossBackward>)\n",
            "tensor(0., device='cuda:0', grad_fn=<NllLossBackward>)\n",
            "tensor(0., device='cuda:0', grad_fn=<NllLossBackward>)\n",
            "tensor(0., device='cuda:0', grad_fn=<NllLossBackward>)\n",
            "tensor(0., device='cuda:0', grad_fn=<NllLossBackward>)\n",
            "tensor(0., device='cuda:0', grad_fn=<NllLossBackward>)\n",
            "tensor(0., device='cuda:0', grad_fn=<NllLossBackward>)\n",
            "tensor(0., device='cuda:0', grad_fn=<NllLossBackward>)\n",
            "tensor(0., device='cuda:0', grad_fn=<NllLossBackward>)\n",
            "tensor(0., device='cuda:0', grad_fn=<NllLossBackward>)\n",
            "tensor(0., device='cuda:0', grad_fn=<NllLossBackward>)\n",
            "tensor(0., device='cuda:0', grad_fn=<NllLossBackward>)\n",
            "tensor(0., device='cuda:0', grad_fn=<NllLossBackward>)\n",
            "tensor(0., device='cuda:0', grad_fn=<NllLossBackward>)\n",
            "tensor(0., device='cuda:0', grad_fn=<NllLossBackward>)\n",
            "tensor(0., device='cuda:0', grad_fn=<NllLossBackward>)\n",
            "tensor(0., device='cuda:0', grad_fn=<NllLossBackward>)\n",
            "tensor(0., device='cuda:0', grad_fn=<NllLossBackward>)\n",
            "tensor(0., device='cuda:0', grad_fn=<NllLossBackward>)\n",
            "tensor(0., device='cuda:0', grad_fn=<NllLossBackward>)\n",
            "tensor(0., device='cuda:0', grad_fn=<NllLossBackward>)\n",
            "tensor(0., device='cuda:0', grad_fn=<NllLossBackward>)\n",
            "tensor(0., device='cuda:0', grad_fn=<NllLossBackward>)\n",
            "tensor(0., device='cuda:0', grad_fn=<NllLossBackward>)\n",
            "tensor(0., device='cuda:0', grad_fn=<NllLossBackward>)\n",
            "tensor(0., device='cuda:0', grad_fn=<NllLossBackward>)\n",
            "tensor(0., device='cuda:0', grad_fn=<NllLossBackward>)\n",
            "tensor(0., device='cuda:0', grad_fn=<NllLossBackward>)\n",
            "tensor(0., device='cuda:0', grad_fn=<NllLossBackward>)\n",
            "tensor(0., device='cuda:0', grad_fn=<NllLossBackward>)\n",
            "tensor(0., device='cuda:0', grad_fn=<NllLossBackward>)\n",
            "tensor(0., device='cuda:0', grad_fn=<NllLossBackward>)\n",
            "tensor(0., device='cuda:0', grad_fn=<NllLossBackward>)\n",
            "tensor(0., device='cuda:0', grad_fn=<NllLossBackward>)\n",
            "tensor(0., device='cuda:0', grad_fn=<NllLossBackward>)\n",
            "tensor(0., device='cuda:0', grad_fn=<NllLossBackward>)\n",
            "tensor(0., device='cuda:0', grad_fn=<NllLossBackward>)\n",
            "tensor(0., device='cuda:0', grad_fn=<NllLossBackward>)\n",
            "tensor(0., device='cuda:0', grad_fn=<NllLossBackward>)\n",
            "tensor(0., device='cuda:0', grad_fn=<NllLossBackward>)\n",
            "tensor(0., device='cuda:0', grad_fn=<NllLossBackward>)\n",
            "tensor(0., device='cuda:0', grad_fn=<NllLossBackward>)\n",
            "tensor(0., device='cuda:0', grad_fn=<NllLossBackward>)\n",
            "tensor(0., device='cuda:0', grad_fn=<NllLossBackward>)\n",
            "tensor(0., device='cuda:0', grad_fn=<NllLossBackward>)\n",
            "tensor(0., device='cuda:0', grad_fn=<NllLossBackward>)\n",
            "tensor(0., device='cuda:0', grad_fn=<NllLossBackward>)\n",
            "tensor(0., device='cuda:0', grad_fn=<NllLossBackward>)\n",
            "tensor(0., device='cuda:0', grad_fn=<NllLossBackward>)\n",
            "tensor(0., device='cuda:0', grad_fn=<NllLossBackward>)\n",
            "tensor(0., device='cuda:0', grad_fn=<NllLossBackward>)\n",
            "tensor(0., device='cuda:0', grad_fn=<NllLossBackward>)\n",
            "tensor(0., device='cuda:0', grad_fn=<NllLossBackward>)\n",
            "tensor(0., device='cuda:0', grad_fn=<NllLossBackward>)\n",
            "epoch: 2/3\n",
            "tensor(0., device='cuda:0', grad_fn=<NllLossBackward>)\n",
            "tensor(0., device='cuda:0', grad_fn=<NllLossBackward>)\n",
            "tensor(0., device='cuda:0', grad_fn=<NllLossBackward>)\n",
            "tensor(0., device='cuda:0', grad_fn=<NllLossBackward>)\n",
            "tensor(0., device='cuda:0', grad_fn=<NllLossBackward>)\n",
            "tensor(0., device='cuda:0', grad_fn=<NllLossBackward>)\n",
            "tensor(0., device='cuda:0', grad_fn=<NllLossBackward>)\n",
            "tensor(0., device='cuda:0', grad_fn=<NllLossBackward>)\n",
            "tensor(0., device='cuda:0', grad_fn=<NllLossBackward>)\n",
            "tensor(0., device='cuda:0', grad_fn=<NllLossBackward>)\n",
            "tensor(0., device='cuda:0', grad_fn=<NllLossBackward>)\n",
            "tensor(0., device='cuda:0', grad_fn=<NllLossBackward>)\n",
            "tensor(0., device='cuda:0', grad_fn=<NllLossBackward>)\n",
            "tensor(0., device='cuda:0', grad_fn=<NllLossBackward>)\n",
            "tensor(0., device='cuda:0', grad_fn=<NllLossBackward>)\n",
            "tensor(0., device='cuda:0', grad_fn=<NllLossBackward>)\n",
            "tensor(0., device='cuda:0', grad_fn=<NllLossBackward>)\n",
            "tensor(0., device='cuda:0', grad_fn=<NllLossBackward>)\n",
            "tensor(0., device='cuda:0', grad_fn=<NllLossBackward>)\n",
            "tensor(0., device='cuda:0', grad_fn=<NllLossBackward>)\n",
            "tensor(0., device='cuda:0', grad_fn=<NllLossBackward>)\n",
            "tensor(0., device='cuda:0', grad_fn=<NllLossBackward>)\n",
            "tensor(0., device='cuda:0', grad_fn=<NllLossBackward>)\n",
            "tensor(0., device='cuda:0', grad_fn=<NllLossBackward>)\n",
            "tensor(0., device='cuda:0', grad_fn=<NllLossBackward>)\n",
            "tensor(0., device='cuda:0', grad_fn=<NllLossBackward>)\n",
            "tensor(0., device='cuda:0', grad_fn=<NllLossBackward>)\n",
            "tensor(0., device='cuda:0', grad_fn=<NllLossBackward>)\n",
            "tensor(0., device='cuda:0', grad_fn=<NllLossBackward>)\n",
            "tensor(0., device='cuda:0', grad_fn=<NllLossBackward>)\n",
            "tensor(0., device='cuda:0', grad_fn=<NllLossBackward>)\n",
            "tensor(0., device='cuda:0', grad_fn=<NllLossBackward>)\n",
            "tensor(0., device='cuda:0', grad_fn=<NllLossBackward>)\n",
            "tensor(0., device='cuda:0', grad_fn=<NllLossBackward>)\n",
            "tensor(0., device='cuda:0', grad_fn=<NllLossBackward>)\n",
            "tensor(0., device='cuda:0', grad_fn=<NllLossBackward>)\n",
            "tensor(0., device='cuda:0', grad_fn=<NllLossBackward>)\n",
            "tensor(0., device='cuda:0', grad_fn=<NllLossBackward>)\n",
            "tensor(0., device='cuda:0', grad_fn=<NllLossBackward>)\n",
            "tensor(0., device='cuda:0', grad_fn=<NllLossBackward>)\n",
            "tensor(0., device='cuda:0', grad_fn=<NllLossBackward>)\n",
            "tensor(0., device='cuda:0', grad_fn=<NllLossBackward>)\n",
            "tensor(0., device='cuda:0', grad_fn=<NllLossBackward>)\n",
            "tensor(0., device='cuda:0', grad_fn=<NllLossBackward>)\n",
            "tensor(0., device='cuda:0', grad_fn=<NllLossBackward>)\n",
            "tensor(0., device='cuda:0', grad_fn=<NllLossBackward>)\n",
            "tensor(0., device='cuda:0', grad_fn=<NllLossBackward>)\n",
            "tensor(0., device='cuda:0', grad_fn=<NllLossBackward>)\n",
            "tensor(0., device='cuda:0', grad_fn=<NllLossBackward>)\n",
            "tensor(0., device='cuda:0', grad_fn=<NllLossBackward>)\n",
            "tensor(0., device='cuda:0', grad_fn=<NllLossBackward>)\n",
            "tensor(0., device='cuda:0', grad_fn=<NllLossBackward>)\n",
            "tensor(0., device='cuda:0', grad_fn=<NllLossBackward>)\n",
            "tensor(0., device='cuda:0', grad_fn=<NllLossBackward>)\n",
            "tensor(0., device='cuda:0', grad_fn=<NllLossBackward>)\n",
            "tensor(0., device='cuda:0', grad_fn=<NllLossBackward>)\n",
            "tensor(0., device='cuda:0', grad_fn=<NllLossBackward>)\n",
            "tensor(0., device='cuda:0', grad_fn=<NllLossBackward>)\n",
            "tensor(0., device='cuda:0', grad_fn=<NllLossBackward>)\n",
            "tensor(0., device='cuda:0', grad_fn=<NllLossBackward>)\n",
            "tensor(0., device='cuda:0', grad_fn=<NllLossBackward>)\n",
            "tensor(0., device='cuda:0', grad_fn=<NllLossBackward>)\n",
            "tensor(0., device='cuda:0', grad_fn=<NllLossBackward>)\n",
            "tensor(0., device='cuda:0', grad_fn=<NllLossBackward>)\n",
            "tensor(0., device='cuda:0', grad_fn=<NllLossBackward>)\n",
            "tensor(0., device='cuda:0', grad_fn=<NllLossBackward>)\n",
            "tensor(0., device='cuda:0', grad_fn=<NllLossBackward>)\n",
            "tensor(0., device='cuda:0', grad_fn=<NllLossBackward>)\n",
            "tensor(0., device='cuda:0', grad_fn=<NllLossBackward>)\n",
            "tensor(0., device='cuda:0', grad_fn=<NllLossBackward>)\n",
            "tensor(0., device='cuda:0', grad_fn=<NllLossBackward>)\n",
            "tensor(0., device='cuda:0', grad_fn=<NllLossBackward>)\n",
            "tensor(0., device='cuda:0', grad_fn=<NllLossBackward>)\n",
            "tensor(0., device='cuda:0', grad_fn=<NllLossBackward>)\n",
            "tensor(0., device='cuda:0', grad_fn=<NllLossBackward>)\n",
            "tensor(0., device='cuda:0', grad_fn=<NllLossBackward>)\n",
            "tensor(0., device='cuda:0', grad_fn=<NllLossBackward>)\n",
            "tensor(0., device='cuda:0', grad_fn=<NllLossBackward>)\n",
            "tensor(0., device='cuda:0', grad_fn=<NllLossBackward>)\n",
            "tensor(0., device='cuda:0', grad_fn=<NllLossBackward>)\n",
            "tensor(0., device='cuda:0', grad_fn=<NllLossBackward>)\n",
            "tensor(0., device='cuda:0', grad_fn=<NllLossBackward>)\n",
            "tensor(0., device='cuda:0', grad_fn=<NllLossBackward>)\n",
            "tensor(0., device='cuda:0', grad_fn=<NllLossBackward>)\n",
            "tensor(0., device='cuda:0', grad_fn=<NllLossBackward>)\n",
            "tensor(0., device='cuda:0', grad_fn=<NllLossBackward>)\n",
            "tensor(0., device='cuda:0', grad_fn=<NllLossBackward>)\n",
            "tensor(0., device='cuda:0', grad_fn=<NllLossBackward>)\n",
            "tensor(0., device='cuda:0', grad_fn=<NllLossBackward>)\n",
            "tensor(0., device='cuda:0', grad_fn=<NllLossBackward>)\n",
            "tensor(0., device='cuda:0', grad_fn=<NllLossBackward>)\n",
            "tensor(0., device='cuda:0', grad_fn=<NllLossBackward>)\n",
            "tensor(0., device='cuda:0', grad_fn=<NllLossBackward>)\n",
            "tensor(0., device='cuda:0', grad_fn=<NllLossBackward>)\n",
            "tensor(0., device='cuda:0', grad_fn=<NllLossBackward>)\n",
            "tensor(0., device='cuda:0', grad_fn=<NllLossBackward>)\n",
            "tensor(0., device='cuda:0', grad_fn=<NllLossBackward>)\n",
            "tensor(0., device='cuda:0', grad_fn=<NllLossBackward>)\n",
            "tensor(0., device='cuda:0', grad_fn=<NllLossBackward>)\n",
            "tensor(0., device='cuda:0', grad_fn=<NllLossBackward>)\n",
            "epoch: 3/3\n",
            "tensor(0., device='cuda:0', grad_fn=<NllLossBackward>)\n",
            "tensor(0., device='cuda:0', grad_fn=<NllLossBackward>)\n",
            "tensor(0., device='cuda:0', grad_fn=<NllLossBackward>)\n",
            "tensor(0., device='cuda:0', grad_fn=<NllLossBackward>)\n",
            "tensor(0., device='cuda:0', grad_fn=<NllLossBackward>)\n",
            "tensor(0., device='cuda:0', grad_fn=<NllLossBackward>)\n",
            "tensor(0., device='cuda:0', grad_fn=<NllLossBackward>)\n",
            "tensor(0., device='cuda:0', grad_fn=<NllLossBackward>)\n",
            "tensor(0., device='cuda:0', grad_fn=<NllLossBackward>)\n",
            "tensor(0., device='cuda:0', grad_fn=<NllLossBackward>)\n",
            "tensor(0., device='cuda:0', grad_fn=<NllLossBackward>)\n",
            "tensor(0., device='cuda:0', grad_fn=<NllLossBackward>)\n",
            "tensor(0., device='cuda:0', grad_fn=<NllLossBackward>)\n",
            "tensor(0., device='cuda:0', grad_fn=<NllLossBackward>)\n",
            "tensor(0., device='cuda:0', grad_fn=<NllLossBackward>)\n",
            "tensor(0., device='cuda:0', grad_fn=<NllLossBackward>)\n",
            "tensor(0., device='cuda:0', grad_fn=<NllLossBackward>)\n",
            "tensor(0., device='cuda:0', grad_fn=<NllLossBackward>)\n",
            "tensor(0., device='cuda:0', grad_fn=<NllLossBackward>)\n",
            "tensor(0., device='cuda:0', grad_fn=<NllLossBackward>)\n",
            "tensor(0., device='cuda:0', grad_fn=<NllLossBackward>)\n",
            "tensor(0., device='cuda:0', grad_fn=<NllLossBackward>)\n",
            "tensor(0., device='cuda:0', grad_fn=<NllLossBackward>)\n",
            "tensor(0., device='cuda:0', grad_fn=<NllLossBackward>)\n",
            "tensor(0., device='cuda:0', grad_fn=<NllLossBackward>)\n",
            "tensor(0., device='cuda:0', grad_fn=<NllLossBackward>)\n",
            "tensor(0., device='cuda:0', grad_fn=<NllLossBackward>)\n",
            "tensor(0., device='cuda:0', grad_fn=<NllLossBackward>)\n",
            "tensor(0., device='cuda:0', grad_fn=<NllLossBackward>)\n",
            "tensor(0., device='cuda:0', grad_fn=<NllLossBackward>)\n",
            "tensor(0., device='cuda:0', grad_fn=<NllLossBackward>)\n",
            "tensor(0., device='cuda:0', grad_fn=<NllLossBackward>)\n",
            "tensor(0., device='cuda:0', grad_fn=<NllLossBackward>)\n",
            "tensor(0., device='cuda:0', grad_fn=<NllLossBackward>)\n",
            "tensor(0., device='cuda:0', grad_fn=<NllLossBackward>)\n",
            "tensor(0., device='cuda:0', grad_fn=<NllLossBackward>)\n",
            "tensor(0., device='cuda:0', grad_fn=<NllLossBackward>)\n",
            "tensor(0., device='cuda:0', grad_fn=<NllLossBackward>)\n",
            "tensor(0., device='cuda:0', grad_fn=<NllLossBackward>)\n",
            "tensor(0., device='cuda:0', grad_fn=<NllLossBackward>)\n",
            "tensor(0., device='cuda:0', grad_fn=<NllLossBackward>)\n",
            "tensor(0., device='cuda:0', grad_fn=<NllLossBackward>)\n",
            "tensor(0., device='cuda:0', grad_fn=<NllLossBackward>)\n",
            "tensor(0., device='cuda:0', grad_fn=<NllLossBackward>)\n",
            "tensor(0., device='cuda:0', grad_fn=<NllLossBackward>)\n",
            "tensor(0., device='cuda:0', grad_fn=<NllLossBackward>)\n",
            "tensor(0., device='cuda:0', grad_fn=<NllLossBackward>)\n",
            "tensor(0., device='cuda:0', grad_fn=<NllLossBackward>)\n",
            "tensor(0., device='cuda:0', grad_fn=<NllLossBackward>)\n",
            "tensor(0., device='cuda:0', grad_fn=<NllLossBackward>)\n",
            "tensor(0., device='cuda:0', grad_fn=<NllLossBackward>)\n",
            "tensor(0., device='cuda:0', grad_fn=<NllLossBackward>)\n",
            "tensor(0., device='cuda:0', grad_fn=<NllLossBackward>)\n",
            "tensor(0., device='cuda:0', grad_fn=<NllLossBackward>)\n",
            "tensor(0., device='cuda:0', grad_fn=<NllLossBackward>)\n",
            "tensor(0., device='cuda:0', grad_fn=<NllLossBackward>)\n",
            "tensor(0., device='cuda:0', grad_fn=<NllLossBackward>)\n",
            "tensor(0., device='cuda:0', grad_fn=<NllLossBackward>)\n",
            "tensor(0., device='cuda:0', grad_fn=<NllLossBackward>)\n",
            "tensor(0., device='cuda:0', grad_fn=<NllLossBackward>)\n",
            "tensor(0., device='cuda:0', grad_fn=<NllLossBackward>)\n",
            "tensor(0., device='cuda:0', grad_fn=<NllLossBackward>)\n",
            "tensor(0., device='cuda:0', grad_fn=<NllLossBackward>)\n",
            "tensor(0., device='cuda:0', grad_fn=<NllLossBackward>)\n",
            "tensor(0., device='cuda:0', grad_fn=<NllLossBackward>)\n",
            "tensor(0., device='cuda:0', grad_fn=<NllLossBackward>)\n",
            "tensor(0., device='cuda:0', grad_fn=<NllLossBackward>)\n",
            "tensor(0., device='cuda:0', grad_fn=<NllLossBackward>)\n",
            "tensor(0., device='cuda:0', grad_fn=<NllLossBackward>)\n",
            "tensor(0., device='cuda:0', grad_fn=<NllLossBackward>)\n",
            "tensor(0., device='cuda:0', grad_fn=<NllLossBackward>)\n",
            "tensor(0., device='cuda:0', grad_fn=<NllLossBackward>)\n",
            "tensor(0., device='cuda:0', grad_fn=<NllLossBackward>)\n",
            "tensor(0., device='cuda:0', grad_fn=<NllLossBackward>)\n",
            "tensor(0., device='cuda:0', grad_fn=<NllLossBackward>)\n",
            "tensor(0., device='cuda:0', grad_fn=<NllLossBackward>)\n",
            "tensor(0., device='cuda:0', grad_fn=<NllLossBackward>)\n",
            "tensor(0., device='cuda:0', grad_fn=<NllLossBackward>)\n",
            "tensor(0., device='cuda:0', grad_fn=<NllLossBackward>)\n",
            "tensor(0., device='cuda:0', grad_fn=<NllLossBackward>)\n",
            "tensor(0., device='cuda:0', grad_fn=<NllLossBackward>)\n",
            "tensor(0., device='cuda:0', grad_fn=<NllLossBackward>)\n",
            "tensor(0., device='cuda:0', grad_fn=<NllLossBackward>)\n",
            "tensor(0., device='cuda:0', grad_fn=<NllLossBackward>)\n",
            "tensor(0., device='cuda:0', grad_fn=<NllLossBackward>)\n",
            "tensor(0., device='cuda:0', grad_fn=<NllLossBackward>)\n",
            "tensor(0., device='cuda:0', grad_fn=<NllLossBackward>)\n",
            "tensor(0., device='cuda:0', grad_fn=<NllLossBackward>)\n",
            "tensor(0., device='cuda:0', grad_fn=<NllLossBackward>)\n",
            "tensor(0., device='cuda:0', grad_fn=<NllLossBackward>)\n",
            "tensor(0., device='cuda:0', grad_fn=<NllLossBackward>)\n",
            "tensor(0., device='cuda:0', grad_fn=<NllLossBackward>)\n",
            "tensor(0., device='cuda:0', grad_fn=<NllLossBackward>)\n",
            "tensor(0., device='cuda:0', grad_fn=<NllLossBackward>)\n",
            "tensor(0., device='cuda:0', grad_fn=<NllLossBackward>)\n",
            "tensor(0., device='cuda:0', grad_fn=<NllLossBackward>)\n",
            "tensor(0., device='cuda:0', grad_fn=<NllLossBackward>)\n",
            "tensor(0., device='cuda:0', grad_fn=<NllLossBackward>)\n",
            "tensor(0., device='cuda:0', grad_fn=<NllLossBackward>)\n",
            "tensor(0., device='cuda:0', grad_fn=<NllLossBackward>)\n"
          ]
        }
      ]
    },
    {
      "cell_type": "code",
      "metadata": {
        "colab": {
          "base_uri": "https://localhost:8080/",
          "height": 241
        },
        "id": "scEIwSWMsN9r",
        "outputId": "3cdc6e7d-3d41-45c4-f115-dd74d73872c3"
      },
      "source": [
        "# Desenhar uma imagem autoral 'teste.png' com as dimensões 224 x 224\n",
        "# e subir direto na pasta 'imagens' do seu Google Drive.\n",
        "path = 'drive/MyDrive/imagens/teste.png'\n",
        "img_teste = Image.open(path).convert('RGB')\n",
        "img_teste"
      ],
      "execution_count": 12,
      "outputs": [
        {
          "output_type": "execute_result",
          "data": {
            "image/png": "[encoded data removed]",
            "text/plain": [
              "<PIL.Image.Image image mode=RGB size=224x224 at 0x7F45C885F510>"
            ]
          },
          "metadata": {},
          "execution_count": 12
        }
      ]
    },
    {
      "cell_type": "code",
      "metadata": {
        "colab": {
          "base_uri": "https://localhost:8080/"
        },
        "id": "Oy-i7A9AzlIQ",
        "outputId": "7fcb2d97-a7bb-4227-e877-0360def9bac5"
      },
      "source": [
        "# Colocando a rede em modo de inferência\n",
        "vgg.eval() \n",
        "img = transformations(img_teste)\n",
        "img = img.unsqueeze(0).to(gpu)\n",
        "out = vgg(img)\n",
        "softmax = nn.Softmax()\n",
        "out = softmax(out)\n",
        "print(f'\\nProbabilidade de ser triste  {out[0][0].item():.2f}')\n",
        "print(f'\\nProbabilidade de ser feliz   {out[0][1].item():.2f}\\n')"
      ],
      "execution_count": 13,
      "outputs": [
        {
          "output_type": "stream",
          "name": "stdout",
          "text": [
            "\n",
            "Probabilidade de ser triste  0.00\n",
            "\n",
            "Probabilidade de ser feliz   1.00\n",
            "\n"
          ]
        },
        {
          "output_type": "stream",
          "name": "stderr",
          "text": [
            "/usr/local/lib/python3.7/dist-packages/ipykernel_launcher.py:7: UserWarning: Implicit dimension choice for softmax has been deprecated. Change the call to include dim=X as an argument.\n",
            "  import sys\n"
          ]
        }
      ]
    }
  ]
}